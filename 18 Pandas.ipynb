{
 "cells": [
  {
   "cell_type": "markdown",
   "metadata": {},
   "source": [
    "# Demo: Pandas"
   ]
  },
  {
   "cell_type": "markdown",
   "metadata": {},
   "source": [
    "## Two important datatypes in Pandas \n",
    "* Series (like a vector or array)\n",
    "* Dataframe (like a 2-D array or Excel spreadsheet)"
   ]
  },
  {
   "cell_type": "code",
   "execution_count": null,
   "metadata": {
    "ExecuteTime": {
     "end_time": "2018-03-15T21:01:47.041971Z",
     "start_time": "2018-03-15T21:01:47.035750Z"
    }
   },
   "outputs": [],
   "source": [
    "import pandas as pd\n",
    "\n",
    "population_dict = {\n",
    "    'California': 38_332_521,\n",
    "         'Texas': 26_448_193,\n",
    "      'New York': 19_651_127,\n",
    "       'Florida': 195_528_60,\n",
    "      'Illinois': 12_882_135\n",
    "}\n",
    "# create a series from a Python dict\n",
    "population = pd.Series(population_dict)\n",
    "population"
   ]
  },
  {
   "cell_type": "code",
   "execution_count": null,
   "metadata": {
    "ExecuteTime": {
     "end_time": "2018-03-15T21:01:47.050486Z",
     "start_time": "2018-03-15T21:01:47.043635Z"
    }
   },
   "outputs": [],
   "source": [
    "area_dict = {\n",
    "    'California': 423_967, \n",
    "         'Texas': 695_662,\n",
    "      'New York': 141_297,\n",
    "       'Florida': 170_312,\n",
    "      'Illinois': 149_995\n",
    "}\n",
    "area = pd.Series(area_dict)\n",
    "area"
   ]
  },
  {
   "cell_type": "code",
   "execution_count": null,
   "metadata": {
    "ExecuteTime": {
     "end_time": "2018-03-15T21:01:47.059367Z",
     "start_time": "2018-03-15T21:01:47.052325Z"
    }
   },
   "outputs": [],
   "source": [
    "# Create a DataFrame from two dicts–each will \n",
    "# be a column in the new DataFrame.\n",
    "states = pd.DataFrame({'population': population, 'area': area})\n",
    "states\n",
    "# Note that print(states) doesn't look as nice. \n",
    "# That's because just typing 'states' as above invokes \n",
    "# the display() function for DataFrames:\n",
    "# from IPython.display import display\n",
    "#\n",
    "# display(states)"
   ]
  },
  {
   "cell_type": "code",
   "execution_count": null,
   "metadata": {
    "ExecuteTime": {
     "end_time": "2018-03-15T21:01:47.065948Z",
     "start_time": "2018-03-15T21:01:47.061439Z"
    }
   },
   "outputs": [],
   "source": [
    "# DataFrames have an index that we can inspect (or change)\n",
    "states.index"
   ]
  },
  {
   "cell_type": "code",
   "execution_count": null,
   "metadata": {
    "ExecuteTime": {
     "end_time": "2018-03-15T21:01:47.072564Z",
     "start_time": "2018-03-15T21:01:47.067898Z"
    }
   },
   "outputs": [],
   "source": [
    "# View column names\n",
    "states.columns"
   ]
  },
  {
   "cell_type": "code",
   "execution_count": null,
   "metadata": {
    "ExecuteTime": {
     "end_time": "2018-03-15T21:01:47.079104Z",
     "start_time": "2018-03-15T21:01:47.074451Z"
    }
   },
   "outputs": [],
   "source": [
    "# View a specific column\n",
    "states['area'] # or states.area"
   ]
  },
  {
   "cell_type": "code",
   "execution_count": null,
   "metadata": {
    "ExecuteTime": {
     "end_time": "2018-03-15T21:01:47.088618Z",
     "start_time": "2018-03-15T21:01:47.080877Z"
    }
   },
   "outputs": [],
   "source": [
    "# Generate a Boolean series based on a Boolean condition\n",
    "# e.g., Which states have an area > 150,000 sq. miles?\n",
    " # or, Which states have a population > 20,000,000\n",
    "large_area = states['area'] > 150_000 \n",
    "large_area"
   ]
  },
  {
   "cell_type": "code",
   "execution_count": null,
   "metadata": {
    "ExecuteTime": {
     "end_time": "2018-03-15T21:01:47.088618Z",
     "start_time": "2018-03-15T21:01:47.080877Z"
    }
   },
   "outputs": [],
   "source": [
    "large_pop = states['population'] > 20_000_000\n",
    "# We can use the & operator (bitwise AND) to combine conditions\n",
    "states[large_area & large_pop]"
   ]
  },
  {
   "cell_type": "code",
   "execution_count": null,
   "metadata": {
    "ExecuteTime": {
     "end_time": "2018-03-15T21:01:47.093939Z",
     "start_time": "2018-03-15T21:01:47.090301Z"
    }
   },
   "outputs": [],
   "source": [
    "# We can see that under the hood, the values in a DataFrame\n",
    "# are represented as a matrix or 2-D array\n",
    "states.values"
   ]
  },
  {
   "cell_type": "markdown",
   "metadata": {},
   "source": [
    "## Reading CSV files into __`pandas`__"
   ]
  },
  {
   "cell_type": "code",
   "execution_count": null,
   "metadata": {
    "ExecuteTime": {
     "end_time": "2018-03-15T21:01:47.387768Z",
     "start_time": "2018-03-15T21:01:47.095747Z"
    }
   },
   "outputs": [],
   "source": [
    "# Read data from a CSV file\n",
    "data = pd.read_csv('data/skincancer.csv')"
   ]
  },
  {
   "cell_type": "code",
   "execution_count": null,
   "metadata": {
    "ExecuteTime": {
     "end_time": "2018-03-15T21:01:47.415274Z",
     "start_time": "2018-03-15T21:01:47.389515Z"
    }
   },
   "outputs": [],
   "source": [
    "# Show the first n rows, default = 5\n",
    "data.head(10)"
   ]
  },
  {
   "cell_type": "code",
   "execution_count": null,
   "metadata": {
    "ExecuteTime": {
     "end_time": "2018-03-15T21:01:47.422111Z",
     "start_time": "2018-03-15T21:01:47.417739Z"
    }
   },
   "outputs": [],
   "source": [
    "# Show the \"shape\" of the data, i.e., rows x columns\n",
    "data.shape"
   ]
  },
  {
   "cell_type": "markdown",
   "metadata": {},
   "source": [
    "## Don't treat first line as header"
   ]
  },
  {
   "cell_type": "code",
   "execution_count": null,
   "metadata": {
    "ExecuteTime": {
     "end_time": "2018-03-15T21:01:47.720442Z",
     "start_time": "2018-03-15T21:01:47.424089Z"
    }
   },
   "outputs": [],
   "source": [
    "data = pd.read_csv('data/skincancer.csv', header=None)"
   ]
  },
  {
   "cell_type": "code",
   "execution_count": null,
   "metadata": {
    "ExecuteTime": {
     "end_time": "2018-03-15T21:01:47.741498Z",
     "start_time": "2018-03-15T21:01:47.722237Z"
    }
   },
   "outputs": [],
   "source": [
    "data.head()"
   ]
  },
  {
   "cell_type": "code",
   "execution_count": null,
   "metadata": {
    "ExecuteTime": {
     "end_time": "2018-03-15T21:01:47.747132Z",
     "start_time": "2018-03-15T21:01:47.743007Z"
    }
   },
   "outputs": [],
   "source": [
    "data.shape"
   ]
  },
  {
   "cell_type": "markdown",
   "metadata": {},
   "source": [
    "## Specify our own headers/column names"
   ]
  },
  {
   "cell_type": "code",
   "execution_count": null,
   "metadata": {
    "ExecuteTime": {
     "end_time": "2018-03-15T21:01:47.752833Z",
     "start_time": "2018-03-15T21:01:47.748568Z"
    }
   },
   "outputs": [],
   "source": [
    "# We saw earlier that we can view the column names.\n",
    "# We can also change them!\n",
    "data.columns = 'State Latitude Mortality Ocean Longitude'.split()"
   ]
  },
  {
   "cell_type": "code",
   "execution_count": null,
   "metadata": {
    "ExecuteTime": {
     "end_time": "2018-03-15T21:01:47.774048Z",
     "start_time": "2018-03-15T21:01:47.754514Z"
    }
   },
   "outputs": [],
   "source": [
    "data.head()"
   ]
  }
 ],
 "metadata": {
  "kernelspec": {
   "display_name": "Python 3 (ipykernel)",
   "language": "python",
   "name": "python3"
  },
  "language_info": {
   "codemirror_mode": {
    "name": "ipython",
    "version": 3
   },
   "file_extension": ".py",
   "mimetype": "text/x-python",
   "name": "python",
   "nbconvert_exporter": "python",
   "pygments_lexer": "ipython3",
   "version": "3.13.1"
  }
 },
 "nbformat": 4,
 "nbformat_minor": 4
}
